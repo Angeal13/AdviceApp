{
  "nbformat": 4,
  "nbformat_minor": 0,
  "metadata": {
    "colab": {
      "name": "IrisFlowerClassificator_ML.ipynb",
      "provenance": [],
      "collapsed_sections": [],
      "authorship_tag": "ABX9TyM2tNioKEMo43YkDcijqHQZ",
      "include_colab_link": true
    },
    "kernelspec": {
      "name": "python3",
      "display_name": "Python 3"
    }
  },
  "cells": [
    {
      "cell_type": "markdown",
      "metadata": {
        "id": "view-in-github",
        "colab_type": "text"
      },
      "source": [
        "<a href=\"https://colab.research.google.com/github/Angeal13/AdviceApp/blob/master/IrisFlowerClassificator_ML.ipynb\" target=\"_parent\"><img src=\"https://colab.research.google.com/assets/colab-badge.svg\" alt=\"Open In Colab\"/></a>"
      ]
    },
    {
      "cell_type": "code",
      "metadata": {
        "id": "YHIakmoMLf-X",
        "colab_type": "code",
        "colab": {}
      },
      "source": [
        "%tensorflow_version 2.x"
      ],
      "execution_count": 0,
      "outputs": []
    },
    {
      "cell_type": "code",
      "metadata": {
        "id": "KdF6S00yOXka",
        "colab_type": "code",
        "colab": {}
      },
      "source": [
        "from __future__ import absolute_import,division,print_function,unicode_literals\n",
        "\n",
        "import tensorflow as tf\n",
        "\n",
        "import pandas as pd"
      ],
      "execution_count": 0,
      "outputs": []
    },
    {
      "cell_type": "code",
      "metadata": {
        "id": "Ukhd--hfOviC",
        "colab_type": "code",
        "colab": {}
      },
      "source": [
        "CSV_COLUMN_NAMES=['SepalLength','SepalWidth','PetalLength','PetalWidth','Species']\n",
        "SPECIES=['Setosa','Versicolor','Virginia'] #Defince constant that will help later"
      ],
      "execution_count": 0,
      "outputs": []
    },
    {
      "cell_type": "code",
      "metadata": {
        "id": "SaNxsrDTRmuk",
        "colab_type": "code",
        "colab": {}
      },
      "source": [
        "train_path=tf.keras.utils.get_file(\n",
        "    \"iris_training.csv\",\"https://storage.googleapis.com/download.tensorflow.org/data/iris_training.csv\")\n",
        "test_path=tf.keras.utils.get_file(\n",
        "    \"iris_test.csv\",\"https://storage.googleapis.com/download.tensorflow.org/data/iris_test.csv\")\n",
        "\n",
        "train = pd.read_csv(train_path,names=CSV_COLUMN_NAMES,header=0)\n",
        "test  = pd.read_csv(test_path,names=CSV_COLUMN_NAMES,header=0)"
      ],
      "execution_count": 0,
      "outputs": []
    },
    {
      "cell_type": "code",
      "metadata": {
        "id": "sHF6p0YrUZNv",
        "colab_type": "code",
        "outputId": "974fe90d-7940-4fad-f07f-94ac88cef10b",
        "colab": {
          "base_uri": "https://localhost:8080/",
          "height": 204
        }
      },
      "source": [
        "train.head()"
      ],
      "execution_count": 40,
      "outputs": [
        {
          "output_type": "execute_result",
          "data": {
            "text/html": [
              "<div>\n",
              "<style scoped>\n",
              "    .dataframe tbody tr th:only-of-type {\n",
              "        vertical-align: middle;\n",
              "    }\n",
              "\n",
              "    .dataframe tbody tr th {\n",
              "        vertical-align: top;\n",
              "    }\n",
              "\n",
              "    .dataframe thead th {\n",
              "        text-align: right;\n",
              "    }\n",
              "</style>\n",
              "<table border=\"1\" class=\"dataframe\">\n",
              "  <thead>\n",
              "    <tr style=\"text-align: right;\">\n",
              "      <th></th>\n",
              "      <th>SepalLength</th>\n",
              "      <th>SepalWidth</th>\n",
              "      <th>PetalLength</th>\n",
              "      <th>PetalWidth</th>\n",
              "      <th>Species</th>\n",
              "    </tr>\n",
              "  </thead>\n",
              "  <tbody>\n",
              "    <tr>\n",
              "      <th>0</th>\n",
              "      <td>6.4</td>\n",
              "      <td>2.8</td>\n",
              "      <td>5.6</td>\n",
              "      <td>2.2</td>\n",
              "      <td>2</td>\n",
              "    </tr>\n",
              "    <tr>\n",
              "      <th>1</th>\n",
              "      <td>5.0</td>\n",
              "      <td>2.3</td>\n",
              "      <td>3.3</td>\n",
              "      <td>1.0</td>\n",
              "      <td>1</td>\n",
              "    </tr>\n",
              "    <tr>\n",
              "      <th>2</th>\n",
              "      <td>4.9</td>\n",
              "      <td>2.5</td>\n",
              "      <td>4.5</td>\n",
              "      <td>1.7</td>\n",
              "      <td>2</td>\n",
              "    </tr>\n",
              "    <tr>\n",
              "      <th>3</th>\n",
              "      <td>4.9</td>\n",
              "      <td>3.1</td>\n",
              "      <td>1.5</td>\n",
              "      <td>0.1</td>\n",
              "      <td>0</td>\n",
              "    </tr>\n",
              "    <tr>\n",
              "      <th>4</th>\n",
              "      <td>5.7</td>\n",
              "      <td>3.8</td>\n",
              "      <td>1.7</td>\n",
              "      <td>0.3</td>\n",
              "      <td>0</td>\n",
              "    </tr>\n",
              "  </tbody>\n",
              "</table>\n",
              "</div>"
            ],
            "text/plain": [
              "   SepalLength  SepalWidth  PetalLength  PetalWidth  Species\n",
              "0          6.4         2.8          5.6         2.2        2\n",
              "1          5.0         2.3          3.3         1.0        1\n",
              "2          4.9         2.5          4.5         1.7        2\n",
              "3          4.9         3.1          1.5         0.1        0\n",
              "4          5.7         3.8          1.7         0.3        0"
            ]
          },
          "metadata": {
            "tags": []
          },
          "execution_count": 40
        }
      ]
    },
    {
      "cell_type": "code",
      "metadata": {
        "id": "bsiELwvOU7xt",
        "colab_type": "code",
        "colab": {}
      },
      "source": [
        "train_y = train.pop('Species')\n",
        "test_y  = test.pop('Species')"
      ],
      "execution_count": 0,
      "outputs": []
    },
    {
      "cell_type": "code",
      "metadata": {
        "id": "5cQCi36rXSYF",
        "colab_type": "code",
        "colab": {}
      },
      "source": [
        "def input_fn(features,labels,training=True,batch_size=256):\n",
        "  dataset=tf.data.Dataset.from_tensor_slices((dict(features),labels)) #Covert the inputs into a DataSest\n",
        "\n",
        "  if training: #Shuffle and repeat if you are in training mode\n",
        "    dataset=dataset.shuffle(1000).repeat()\n",
        "\n",
        "  return dataset.batch(batch_size)"
      ],
      "execution_count": 0,
      "outputs": []
    },
    {
      "cell_type": "code",
      "metadata": {
        "id": "7ms5kz-XaGyU",
        "colab_type": "code",
        "outputId": "228b1aa9-940f-409f-c335-ea45a3a76838",
        "colab": {
          "base_uri": "https://localhost:8080/",
          "height": 54
        }
      },
      "source": [
        "#Feature columns describe how to use the input\n",
        "my_feature_columns=[]\n",
        "for key in train.keys():\n",
        "  my_feature_columns.append(tf.feature_column.numeric_column(key=key))\n",
        "print(my_feature_columns)"
      ],
      "execution_count": 43,
      "outputs": [
        {
          "output_type": "stream",
          "text": [
            "[NumericColumn(key='SepalLength', shape=(1,), default_value=None, dtype=tf.float32, normalizer_fn=None), NumericColumn(key='SepalWidth', shape=(1,), default_value=None, dtype=tf.float32, normalizer_fn=None), NumericColumn(key='PetalLength', shape=(1,), default_value=None, dtype=tf.float32, normalizer_fn=None), NumericColumn(key='PetalWidth', shape=(1,), default_value=None, dtype=tf.float32, normalizer_fn=None)]\n"
          ],
          "name": "stdout"
        }
      ]
    },
    {
      "cell_type": "code",
      "metadata": {
        "colab_type": "code",
        "outputId": "dd47555a-e7c5-4236-aaa2-ddf083a07eec",
        "id": "kNTvcR86ODGD",
        "colab": {
          "base_uri": "https://localhost:8080/",
          "height": 190
        }
      },
      "source": [
        "#Build a DNN with n-hidden layers with a certain number of nodes to choose with is a certain number of classes\n",
        "classifier=tf.estimator.DNNClassifier(\n",
        "    feature_columns=my_feature_columns,\n",
        "    # Two hidden layers of 30 and 10 nodes respectively.\n",
        "    hidden_units=[30,10],\n",
        "    # The model must choose between 3 classes.\n",
        "    n_classes=3)"
      ],
      "execution_count": 44,
      "outputs": [
        {
          "output_type": "stream",
          "text": [
            "INFO:tensorflow:Using default config.\n",
            "WARNING:tensorflow:Using temporary folder as model directory: /tmp/tmph4v3amah\n",
            "INFO:tensorflow:Using config: {'_model_dir': '/tmp/tmph4v3amah', '_tf_random_seed': None, '_save_summary_steps': 100, '_save_checkpoints_steps': None, '_save_checkpoints_secs': 600, '_session_config': allow_soft_placement: true\n",
            "graph_options {\n",
            "  rewrite_options {\n",
            "    meta_optimizer_iterations: ONE\n",
            "  }\n",
            "}\n",
            ", '_keep_checkpoint_max': 5, '_keep_checkpoint_every_n_hours': 10000, '_log_step_count_steps': 100, '_train_distribute': None, '_device_fn': None, '_protocol': None, '_eval_distribute': None, '_experimental_distribute': None, '_experimental_max_worker_delay_secs': None, '_session_creation_timeout_secs': 7200, '_service': None, '_cluster_spec': ClusterSpec({}), '_task_type': 'worker', '_task_id': 0, '_global_id_in_cluster': 0, '_master': '', '_evaluation_master': '', '_is_chief': True, '_num_ps_replicas': 0, '_num_worker_replicas': 1}\n"
          ],
          "name": "stdout"
        }
      ]
    },
    {
      "cell_type": "code",
      "metadata": {
        "id": "37qZq-qnRctY",
        "colab_type": "code",
        "colab": {
          "base_uri": "https://localhost:8080/",
          "height": 1000
        },
        "outputId": "cc998795-a91f-4e31-f794-808f9742077b"
      },
      "source": [
        "#Training the model unsig LAMBDA fuction\n",
        "#We use LAMBDA becuse we do not have a function that would retunr the input_fn object to us\n",
        "#Usig Steps instead of Epoch, to only look at the number of objects desire, both can be used for proceding adn processing\n",
        "classifier.train(\n",
        "    input_fn=lambda:input_fn(train,train_y,training=True), steps=5000)"
      ],
      "execution_count": 45,
      "outputs": [
        {
          "output_type": "stream",
          "text": [
            "INFO:tensorflow:Calling model_fn.\n",
            "WARNING:tensorflow:Layer dnn is casting an input tensor from dtype float64 to the layer's dtype of float32, which is new behavior in TensorFlow 2.  The layer has dtype float32 because it's dtype defaults to floatx.\n",
            "\n",
            "If you intended to run this layer in float32, you can safely ignore this warning. If in doubt, this warning is likely only an issue if you are porting a TensorFlow 1.X model to TensorFlow 2.\n",
            "\n",
            "To change all layers to have dtype float64 by default, call `tf.keras.backend.set_floatx('float64')`. To change just this layer, pass dtype='float64' to the layer constructor. If you are the author of this layer, you can disable autocasting by passing autocast=False to the base Layer constructor.\n",
            "\n",
            "INFO:tensorflow:Done calling model_fn.\n",
            "INFO:tensorflow:Create CheckpointSaverHook.\n",
            "INFO:tensorflow:Graph was finalized.\n",
            "INFO:tensorflow:Running local_init_op.\n",
            "INFO:tensorflow:Done running local_init_op.\n",
            "INFO:tensorflow:Saving checkpoints for 0 into /tmp/tmph4v3amah/model.ckpt.\n",
            "INFO:tensorflow:loss = 1.389564, step = 0\n",
            "INFO:tensorflow:global_step/sec: 320.932\n",
            "INFO:tensorflow:loss = 0.83488405, step = 100 (0.318 sec)\n",
            "INFO:tensorflow:global_step/sec: 366.07\n",
            "INFO:tensorflow:loss = 0.7209394, step = 200 (0.269 sec)\n",
            "INFO:tensorflow:global_step/sec: 395.464\n",
            "INFO:tensorflow:loss = 0.64823866, step = 300 (0.255 sec)\n",
            "INFO:tensorflow:global_step/sec: 391.743\n",
            "INFO:tensorflow:loss = 0.5941558, step = 400 (0.258 sec)\n",
            "INFO:tensorflow:global_step/sec: 411.084\n",
            "INFO:tensorflow:loss = 0.56283593, step = 500 (0.242 sec)\n",
            "INFO:tensorflow:global_step/sec: 384.053\n",
            "INFO:tensorflow:loss = 0.5454813, step = 600 (0.258 sec)\n",
            "INFO:tensorflow:global_step/sec: 365.1\n",
            "INFO:tensorflow:loss = 0.5171739, step = 700 (0.271 sec)\n",
            "INFO:tensorflow:global_step/sec: 371.011\n",
            "INFO:tensorflow:loss = 0.5034872, step = 800 (0.270 sec)\n",
            "INFO:tensorflow:global_step/sec: 365.338\n",
            "INFO:tensorflow:loss = 0.4877553, step = 900 (0.274 sec)\n",
            "INFO:tensorflow:global_step/sec: 368.938\n",
            "INFO:tensorflow:loss = 0.46695608, step = 1000 (0.271 sec)\n",
            "INFO:tensorflow:global_step/sec: 399.825\n",
            "INFO:tensorflow:loss = 0.4682, step = 1100 (0.250 sec)\n",
            "INFO:tensorflow:global_step/sec: 389.769\n",
            "INFO:tensorflow:loss = 0.44497573, step = 1200 (0.256 sec)\n",
            "INFO:tensorflow:global_step/sec: 403.809\n",
            "INFO:tensorflow:loss = 0.44418383, step = 1300 (0.255 sec)\n",
            "INFO:tensorflow:global_step/sec: 408.839\n",
            "INFO:tensorflow:loss = 0.44006634, step = 1400 (0.241 sec)\n",
            "INFO:tensorflow:global_step/sec: 397.78\n",
            "INFO:tensorflow:loss = 0.42463487, step = 1500 (0.249 sec)\n",
            "INFO:tensorflow:global_step/sec: 370.932\n",
            "INFO:tensorflow:loss = 0.4024309, step = 1600 (0.269 sec)\n",
            "INFO:tensorflow:global_step/sec: 368.192\n",
            "INFO:tensorflow:loss = 0.3987894, step = 1700 (0.271 sec)\n",
            "INFO:tensorflow:global_step/sec: 410.067\n",
            "INFO:tensorflow:loss = 0.3962941, step = 1800 (0.244 sec)\n",
            "INFO:tensorflow:global_step/sec: 390.025\n",
            "INFO:tensorflow:loss = 0.39550218, step = 1900 (0.257 sec)\n",
            "INFO:tensorflow:global_step/sec: 410.743\n",
            "INFO:tensorflow:loss = 0.38204226, step = 2000 (0.244 sec)\n",
            "INFO:tensorflow:global_step/sec: 457.05\n",
            "INFO:tensorflow:loss = 0.38592848, step = 2100 (0.218 sec)\n",
            "INFO:tensorflow:global_step/sec: 400.906\n",
            "INFO:tensorflow:loss = 0.37344724, step = 2200 (0.251 sec)\n",
            "INFO:tensorflow:global_step/sec: 338.717\n",
            "INFO:tensorflow:loss = 0.3743991, step = 2300 (0.295 sec)\n",
            "INFO:tensorflow:global_step/sec: 424.023\n",
            "INFO:tensorflow:loss = 0.3642213, step = 2400 (0.233 sec)\n",
            "INFO:tensorflow:global_step/sec: 467.847\n",
            "INFO:tensorflow:loss = 0.36707819, step = 2500 (0.218 sec)\n",
            "INFO:tensorflow:global_step/sec: 421.842\n",
            "INFO:tensorflow:loss = 0.3571964, step = 2600 (0.237 sec)\n",
            "INFO:tensorflow:global_step/sec: 410.402\n",
            "INFO:tensorflow:loss = 0.35799608, step = 2700 (0.244 sec)\n",
            "INFO:tensorflow:global_step/sec: 416.125\n",
            "INFO:tensorflow:loss = 0.35699183, step = 2800 (0.239 sec)\n",
            "INFO:tensorflow:global_step/sec: 423.495\n",
            "INFO:tensorflow:loss = 0.34138262, step = 2900 (0.237 sec)\n",
            "INFO:tensorflow:global_step/sec: 409.649\n",
            "INFO:tensorflow:loss = 0.33646697, step = 3000 (0.243 sec)\n",
            "INFO:tensorflow:global_step/sec: 385.594\n",
            "INFO:tensorflow:loss = 0.34398568, step = 3100 (0.255 sec)\n",
            "INFO:tensorflow:global_step/sec: 390.349\n",
            "INFO:tensorflow:loss = 0.34177184, step = 3200 (0.260 sec)\n",
            "INFO:tensorflow:global_step/sec: 390.672\n",
            "INFO:tensorflow:loss = 0.3300646, step = 3300 (0.256 sec)\n",
            "INFO:tensorflow:global_step/sec: 384.31\n",
            "INFO:tensorflow:loss = 0.32630557, step = 3400 (0.258 sec)\n",
            "INFO:tensorflow:global_step/sec: 391.005\n",
            "INFO:tensorflow:loss = 0.33026114, step = 3500 (0.256 sec)\n",
            "INFO:tensorflow:global_step/sec: 379.066\n",
            "INFO:tensorflow:loss = 0.32069996, step = 3600 (0.268 sec)\n",
            "INFO:tensorflow:global_step/sec: 373.581\n",
            "INFO:tensorflow:loss = 0.3040811, step = 3700 (0.266 sec)\n",
            "INFO:tensorflow:global_step/sec: 417.349\n",
            "INFO:tensorflow:loss = 0.30752164, step = 3800 (0.241 sec)\n",
            "INFO:tensorflow:global_step/sec: 375.72\n",
            "INFO:tensorflow:loss = 0.31093693, step = 3900 (0.266 sec)\n",
            "INFO:tensorflow:global_step/sec: 372.673\n",
            "INFO:tensorflow:loss = 0.30906, step = 4000 (0.267 sec)\n",
            "INFO:tensorflow:global_step/sec: 392.409\n",
            "INFO:tensorflow:loss = 0.30120516, step = 4100 (0.257 sec)\n",
            "INFO:tensorflow:global_step/sec: 378.567\n",
            "INFO:tensorflow:loss = 0.30139244, step = 4200 (0.259 sec)\n",
            "INFO:tensorflow:global_step/sec: 360.243\n",
            "INFO:tensorflow:loss = 0.30792588, step = 4300 (0.277 sec)\n",
            "INFO:tensorflow:global_step/sec: 401.207\n",
            "INFO:tensorflow:loss = 0.2936831, step = 4400 (0.253 sec)\n",
            "INFO:tensorflow:global_step/sec: 397.575\n",
            "INFO:tensorflow:loss = 0.29422003, step = 4500 (0.248 sec)\n",
            "INFO:tensorflow:global_step/sec: 387.869\n",
            "INFO:tensorflow:loss = 0.29082298, step = 4600 (0.257 sec)\n",
            "INFO:tensorflow:global_step/sec: 398.293\n",
            "INFO:tensorflow:loss = 0.28634807, step = 4700 (0.254 sec)\n",
            "INFO:tensorflow:global_step/sec: 398.025\n",
            "INFO:tensorflow:loss = 0.28434348, step = 4800 (0.250 sec)\n",
            "INFO:tensorflow:global_step/sec: 389.482\n",
            "INFO:tensorflow:loss = 0.2754917, step = 4900 (0.255 sec)\n",
            "INFO:tensorflow:Saving checkpoints for 5000 into /tmp/tmph4v3amah/model.ckpt.\n",
            "INFO:tensorflow:Loss for final step: 0.28632772.\n"
          ],
          "name": "stdout"
        },
        {
          "output_type": "execute_result",
          "data": {
            "text/plain": [
              "<tensorflow_estimator.python.estimator.canned.dnn.DNNClassifierV2 at 0x7f1f066e1b38>"
            ]
          },
          "metadata": {
            "tags": []
          },
          "execution_count": 45
        }
      ]
    },
    {
      "cell_type": "code",
      "metadata": {
        "id": "CG1TG0_6VSZI",
        "colab_type": "code",
        "colab": {}
      },
      "source": [
        "#Evaluate the model Using LAMBDA as explain in the previous set\n",
        "eval_result=classifier.evaluate(\n",
        "    input_fn=lambda:input_fn(test,test_y,training=False))\n",
        "\n",
        "print('\\nTest set accuracy: {accuracy:0.3f}\\n'.format(**eval_result))"
      ],
      "execution_count": 0,
      "outputs": []
    },
    {
      "cell_type": "code",
      "metadata": {
        "id": "99dQJMu0Z_y6",
        "colab_type": "code",
        "colab": {}
      },
      "source": [
        "def input_fn(features,batch_size=256):\n",
        "  #Convert the inputs to a DataSet without Labels.\n",
        "  return tf.data.Dataset.from_tensor_slices(dict(features)).batch(batch_size)\n",
        "\n",
        "features=['SepalLength','SepalWidth','PetalLength','PetalWidth']\n",
        "predict={}\n",
        "\n",
        "print(\"Please type numeric values as prompted\")\n",
        "for feature in features:\n",
        "  valid=True\n",
        "  while valid:\n",
        "    val=input(feature + \": \")\n",
        "    if not val.isdigit():valid =False\n",
        "  \n",
        "  predict[feature]=[float(val)]\n",
        "\n",
        "predictions=classifier.predict(input_fn=lambda:input_fn(predict))\n",
        "for pred_dict in predictions:\n",
        "  class_id=pred_dict['class_ids'][0]\n",
        "  probability= pred_dict['probabilities'][class_id]\n",
        "\n",
        "  print('Predictions is \"{}\" ({:.1f}%)'.format(\n",
        "      SPECIES[class_id],100 * probability))"
      ],
      "execution_count": 0,
      "outputs": []
    }
  ]
}